{
 "cells": [
  {
   "cell_type": "code",
   "execution_count": 73,
   "metadata": {},
   "outputs": [
    {
     "data": {
      "image/png": "[encoded data removed]",
      "text/plain": [
       "<matplotlib.figure.Figure at 0x7f299170cbd0>"
      ]
     },
     "metadata": {},
     "output_type": "display_data"
    },
    {
     "name": "stdout",
     "output_type": "stream",
     "text": [
      "--- 33.5265638828 seconds ---\n"
     ]
    }
   ],
   "source": [
    "import ee\n",
    "import matplotlib.pylab as plt\n",
    "import numpy as np\n",
    "import matplotlib.cm as cm\n",
    "import time\n",
    "\n",
    "ee.Initialize()\n",
    "start_time = time.time()\n",
    "#longitud, latitud, zoom\n",
    "#ee.mapclient.centerMap(-2.0005, 43.3144, 12)\n",
    "regiones = ee.FeatureCollection([\n",
    "    ee.Feature(ee.Geometry.Polygon(\n",
    "[[[-2.0005, 43.3144],\n",
    "      [-1.9993, 43.3157],\n",
    "      [-1.9974, 43.3148],\n",
    "      [-1.9984, 43.3134]]]),{'name': 'Donosti 1'}),\n",
    "    \n",
    "    ee.Feature(ee.Geometry.Polygon(\n",
    "[[[-1.9968, 43.3146],\n",
    "      [-1.9971, 43.3131],\n",
    "      [-1.9946, 43.3131],\n",
    "      [-1.9946, 43.3143]]]),{'name': 'Donosti 2'}),\n",
    "               \n",
    "    ee.Feature(ee.Geometry.Polygon(\n",
    "[[[-1.9940, 43.3145],\n",
    "      [-1.9937, 43.3129],\n",
    "      [-1.9912, 43.3131],\n",
    "      [-1.9912, 43.3146]]]),{'name': 'Donosti 3'}),\n",
    "]);\n",
    "count=regiones.size().getInfo()\n",
    "\n",
    "regions = [item.get('geometry') for item in regiones.getInfo().get('features')]\n",
    "labels=[item.get('properties') for item in regiones.getInfo().get('features')]\n",
    "landsatCollection = ee.ImageCollection('COPERNICUS/S2');\n",
    "landsatDateCollection = ee.ImageCollection(landsatCollection.filterDate('2017-05-01', '2017-06-01'))\n",
    "#una foto cada 5 días\n",
    "val = [None] * count\n",
    "etiquetas = [None] * count\n",
    "i=0\n",
    "for region in regions:\n",
    "    \n",
    "    etiquetas[i]=labels[i].get('name')\n",
    "    landsatAOI = ee.ImageCollection(landsatDateCollection.filterBounds(region))\n",
    "    images = [item.get('id') for item in landsatAOI.getInfo().get('features')]\n",
    "    feature = ee.Feature(region)\n",
    "    values=[]\n",
    "    for image in images:\n",
    "        nir = ee.Image(image).reduceRegion(ee.Reducer.mean(), feature.geometry()).getInfo().get('B8')\n",
    "        red = ee.Image(image).reduceRegion(ee.Reducer.mean(), feature.geometry()).getInfo().get('B4')\n",
    "        ndvi = ((nir - red)/(nir + red))\n",
    "        values.append(ndvi)\n",
    "    val[i]=values\n",
    "    i+=1\n",
    "\n",
    "cmap = plt.get_cmap('gnuplot')\n",
    "colors = [cmap(i) for i in np.linspace(0, 1, count)]\n",
    "\n",
    "for i, color in enumerate(colors, start=0):\n",
    "    plt.plot(val[i],color=color,linewidth=2)\n",
    "plt.legend( etiquetas, loc = 'upper right')\n",
    "plt.xlabel('Image number')\n",
    "plt.ylabel('NDVI value')\n",
    "plt.show()\n",
    "print(\"--- %s seconds ---\" % (time.time() - start_time))\n",
    "\n",
    "\n"
   ]
  },
  {
   "cell_type": "code",
   "execution_count": null,
   "metadata": {},
   "outputs": [],
   "source": []
  }
 ],
 "metadata": {
  "kernelspec": {
   "display_name": "Python 2",
   "language": "python",
   "name": "python2"
  },
  "language_info": {
   "codemirror_mode": {
    "name": "ipython",
    "version": 2
   },
   "file_extension": ".py",
   "mimetype": "text/x-python",
   "name": "python",
   "nbconvert_exporter": "python",
   "pygments_lexer": "ipython2",
   "version": "2.7.12"
  }
 },
 "nbformat": 4,
 "nbformat_minor": 2
}
