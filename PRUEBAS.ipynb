{
 "cells": [
  {
   "cell_type": "code",
   "execution_count": 9,
   "metadata": {},
   "outputs": [
    {
     "name": "stdout",
     "output_type": "stream",
     "text": [
      "ee.Image({\n",
      "  \"type\": \"Invocation\", \n",
      "  \"arguments\": {\n",
      "    \"id\": \"CGIAR/SRTM90_V4\"\n",
      "  }, \n",
      "  \"functionName\": \"Image.load\"\n",
      "})\n"
     ]
    }
   ],
   "source": [
    "import ee\n",
    "import ee.mapclient\n",
    "\n",
    "ee.Initialize()\n",
    "#ee.mapclient.centerMap(-107, 41, 6)\n",
    "\n",
    "#fc = ee.FeatureCollection([\n",
    " #   ee.Feature(\n",
    "  #      ee.Geometry.Polygon(\n",
    "   #         [[-109.05, 41], [-109.05, 37], [-102.05, 37], [-102.05, 41]]),\n",
    "    #    {'name': 'Colorado', 'fill': 1}),\n",
    "    #ee.Feature(\n",
    "     #   ee.Geometry.Polygon(\n",
    "      \n",
    "    #[[-114.05, 37.0], [-109.05, 37.0], [-109.05, 41.0],\n",
    "     #        [-111.05, 41.0], [-111.05, 42.0], [-114.05, 42.0]]),\n",
    "      #  {'name': 'Utah', 'fill': 2})\n",
    "    #])\n",
    "\n",
    "\n",
    "#collection = ee.ImageCollection('COPERNICUS/S2')\n",
    "#roi = ee.Geometry.Point([-5.55, 35.96]);\n",
    "#s2_filtered_1 = collection.filterDate('2017-05-01', '2017-06-01').filterBounds(roi);\n",
    "#print('Collection filtered by time and location', s2_filtered_1);\n",
    "\n",
    "#granual_id_list = ee.Dictionary(\n",
    "  #s2_filtered_1.aggregate_histogram('GRANULE_ID')).keys();\n",
    "#print('GRANULE_ID list', granual_id_list.getInfo());\n",
    "#print(collection.size().getIfo())\n",
    "#collection.getInfo()\n",
    "#print(collection.getInfo(1))#ee.mapclient.addToMap(collection.get(1))\n",
    "#image = ee.Image('CGIAR/SRTM90_V4'\n",
    "#print(prueba.getInfo())\n",
    "#ee.mapclient.centerMap(prueba, 6)#longitud, latitud y zoom\n",
    "#ee.mapclient.addToMap(image, {'min': 0, 'max': 3000})\n",
    "\n",
    "image = ee.Image('CGIAR/SRTM90_V4')\n",
    "print(image)\n",
    "#ee.mapclient.addToMap(image, {'min': 0, 'max': 3000})"
   ]
  },
  {
   "cell_type": "code",
   "execution_count": null,
   "metadata": {},
   "outputs": [],
   "source": []
  }
 ],
 "metadata": {
  "kernelspec": {
   "display_name": "Python 2",
   "language": "python",
   "name": "python2"
  },
  "language_info": {
   "codemirror_mode": {
    "name": "ipython",
    "version": 2
   },
   "file_extension": ".py",
   "mimetype": "text/x-python",
   "name": "python",
   "nbconvert_exporter": "python",
   "pygments_lexer": "ipython2",
   "version": "2.7.12"
  }
 },
 "nbformat": 4,
 "nbformat_minor": 2
}
